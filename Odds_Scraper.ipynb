{
 "cells": [
  {
   "cell_type": "code",
   "execution_count": 8,
   "metadata": {},
   "outputs": [],
   "source": [
    "import pandas as pd\n",
    "import requests, json, re\n",
    "from parsel import Selector\n",
    "import requests\n",
    "#from requests import Request\n",
    "from bs4 import BeautifulSoup\n",
    "import re\n",
    "import urllib.request"
   ]
  },
  {
   "cell_type": "markdown",
   "metadata": {},
   "source": [
    "### Premier League"
   ]
  },
  {
   "cell_type": "code",
   "execution_count": 20,
   "metadata": {},
   "outputs": [],
   "source": [
    "url = 'https://www.marathonbet.com/en/popular/Football/England+-+21517'\n",
    "\n",
    "\n",
    "req = urllib.request.Request(url, headers= {\"User-Agent\": \"Mozilla/5.0\"})    \n",
    "html = urllib.request.urlopen(req)\n",
    "dfs = pd.read_html(html)         \n",
    "#df = dfs[3]"
   ]
  },
  {
   "cell_type": "code",
   "execution_count": 42,
   "metadata": {},
   "outputs": [
    {
     "data": {
      "text/html": [
       "<div>\n",
       "<style scoped>\n",
       "    .dataframe tbody tr th:only-of-type {\n",
       "        vertical-align: middle;\n",
       "    }\n",
       "\n",
       "    .dataframe tbody tr th {\n",
       "        vertical-align: top;\n",
       "    }\n",
       "\n",
       "    .dataframe thead th {\n",
       "        text-align: right;\n",
       "    }\n",
       "</style>\n",
       "<table border=\"1\" class=\"dataframe\">\n",
       "  <thead>\n",
       "    <tr style=\"text-align: right;\">\n",
       "      <th></th>\n",
       "      <th>0</th>\n",
       "      <th>1</th>\n",
       "      <th>2</th>\n",
       "      <th>3</th>\n",
       "      <th>4</th>\n",
       "      <th>5</th>\n",
       "      <th>6</th>\n",
       "      <th>7</th>\n",
       "    </tr>\n",
       "  </thead>\n",
       "  <tbody>\n",
       "    <tr>\n",
       "      <th>0</th>\n",
       "      <td>1.  Troyes  04 Nov 20:00  2.  Auxerre</td>\n",
       "      <td>504.0</td>\n",
       "      <td>1.84</td>\n",
       "      <td>1.84</td>\n",
       "      <td>3.74</td>\n",
       "      <td>3.74</td>\n",
       "      <td>4.2</td>\n",
       "      <td>4.2</td>\n",
       "    </tr>\n",
       "    <tr>\n",
       "      <th>1</th>\n",
       "      <td>1.  Troyes</td>\n",
       "      <td>NaN</td>\n",
       "      <td>04 Nov 20:00</td>\n",
       "      <td>NaN</td>\n",
       "      <td>NaN</td>\n",
       "      <td>NaN</td>\n",
       "      <td>NaN</td>\n",
       "      <td>NaN</td>\n",
       "    </tr>\n",
       "    <tr>\n",
       "      <th>2</th>\n",
       "      <td>2.  Auxerre</td>\n",
       "      <td>NaN</td>\n",
       "      <td>04 Nov 20:00</td>\n",
       "      <td>NaN</td>\n",
       "      <td>NaN</td>\n",
       "      <td>NaN</td>\n",
       "      <td>NaN</td>\n",
       "      <td>NaN</td>\n",
       "    </tr>\n",
       "    <tr>\n",
       "      <th>3</th>\n",
       "      <td>NaN</td>\n",
       "      <td>NaN</td>\n",
       "      <td>NaN</td>\n",
       "      <td>NaN</td>\n",
       "      <td>NaN</td>\n",
       "      <td>NaN</td>\n",
       "      <td>NaN</td>\n",
       "      <td>NaN</td>\n",
       "    </tr>\n",
       "    <tr>\n",
       "      <th>4</th>\n",
       "      <td>+504</td>\n",
       "      <td>NaN</td>\n",
       "      <td>NaN</td>\n",
       "      <td>NaN</td>\n",
       "      <td>NaN</td>\n",
       "      <td>NaN</td>\n",
       "      <td>NaN</td>\n",
       "      <td>NaN</td>\n",
       "    </tr>\n",
       "  </tbody>\n",
       "</table>\n",
       "</div>"
      ],
      "text/plain": [
       "                                       0      1             2     3     4  \\\n",
       "0  1.  Troyes  04 Nov 20:00  2.  Auxerre  504.0          1.84  1.84  3.74   \n",
       "1                             1.  Troyes    NaN  04 Nov 20:00   NaN   NaN   \n",
       "2                            2.  Auxerre    NaN  04 Nov 20:00   NaN   NaN   \n",
       "3                                    NaN    NaN           NaN   NaN   NaN   \n",
       "4                                   +504    NaN           NaN   NaN   NaN   \n",
       "\n",
       "      5    6    7  \n",
       "0  3.74  4.2  4.2  \n",
       "1   NaN  NaN  NaN  \n",
       "2   NaN  NaN  NaN  \n",
       "3   NaN  NaN  NaN  \n",
       "4   NaN  NaN  NaN  "
      ]
     },
     "execution_count": 42,
     "metadata": {},
     "output_type": "execute_result"
    }
   ],
   "source": [
    "dfs[2]"
   ]
  },
  {
   "cell_type": "code",
   "execution_count": 36,
   "metadata": {},
   "outputs": [
    {
     "name": "stdout",
     "output_type": "stream",
     "text": [
      "Aston Villa:3.60:3.74 Manchester United:2.04\n",
      "Fulham:4.35:4.15 Manchester United:1.77\n"
     ]
    }
   ],
   "source": [
    "#df[0][2][4:]\n",
    "j = 2\n",
    "while j<=len(dfs)-1:\n",
    "    try:\n",
    "        team1 =  dfs[j][0][1][4:]\n",
    "        team2 = dfs[j][0][2][4:]\n",
    "        team1_odds = dfs[j][2][0]\n",
    "        team2_odds  = dfs[j][6][0]\n",
    "        draw_odds = dfs[j][4][0]\n",
    "        if team1=='Manchester United' or team2=='Manchester United':\n",
    "            print(team1+ ':'  + str(team1_odds) + ':'  + str(draw_odds)  + ' ' + team2+ ':'  + str(team2_odds))\n",
    "        j+=3\n",
    "    except:\n",
    "        j+=3\n",
    "        continue\n",
    "\n",
    "    "
   ]
  },
  {
   "cell_type": "markdown",
   "metadata": {},
   "source": [
    "### Ligue1"
   ]
  },
  {
   "cell_type": "code",
   "execution_count": 38,
   "metadata": {},
   "outputs": [
    {
     "name": "stdout",
     "output_type": "stream",
     "text": [
      "Lorient:9.10:5.85 Paris Saint-Germain:1.3\n",
      "Paris Saint-Germain:1.095:11.0 Auxerre:22.0\n"
     ]
    }
   ],
   "source": [
    "url = 'https://www.marathonbet.com/en/popular/Football/France/Ligue+1+-+21533'\n",
    "\n",
    "\n",
    "req = urllib.request.Request(url, headers= {\"User-Agent\": \"Mozilla/5.0\"})    \n",
    "html = urllib.request.urlopen(req)\n",
    "dfs = pd.read_html(html)         \n",
    "#df = dfs[3]\n",
    "\n",
    "\n",
    "#df[0][2][4:]\n",
    "j = 2\n",
    "while j<=len(dfs)-1:\n",
    "    try:\n",
    "        team1 =  dfs[j][0][1][4:]\n",
    "        team2 = dfs[j][0][2][4:]\n",
    "        team1_odds = dfs[j][2][0]\n",
    "        team2_odds  = dfs[j][6][0]\n",
    "        draw_odds = dfs[j][4][0]\n",
    "        if team1=='Paris Saint-Germain' or team2=='Paris Saint-Germain':\n",
    "            print(team1+ ':'  + str(team1_odds) + ':'  + str(draw_odds)  + ' ' + team2+ ':'  + str(team2_odds))\n",
    "        j+=3\n",
    "    except:\n",
    "        j+=3\n",
    "        continue"
   ]
  },
  {
   "cell_type": "markdown",
   "metadata": {},
   "source": [
    "### Bundesliga"
   ]
  },
  {
   "cell_type": "code",
   "execution_count": null,
   "metadata": {},
   "outputs": [],
   "source": [
    "url = 'https://www.marathonbet.com/en/popular/Football/Germany/Bundesliga+-+22436'\n",
    "\n",
    "\n",
    "req = urllib.request.Request(url, headers= {\"User-Agent\": \"Mozilla/5.0\"})    \n",
    "html = urllib.request.urlopen(req)\n",
    "dfs = pd.read_html(html)         \n",
    "#df = dfs[3]\n",
    "\n",
    "\n",
    "#df[0][2][4:]\n",
    "j = 2\n",
    "while j<=len(dfs)-1:\n",
    "    try:\n",
    "        team1 =  dfs[j][0][1][4:]\n",
    "        team2 = dfs[j][0][2][4:]\n",
    "        team1_odds = dfs[j][2][0]\n",
    "        team2_odds  = dfs[j][6][0]\n",
    "        draw_odds = dfs[j][4][0]\n",
    "        if team1=='Bayern Munich' or team2=='Bayern Munich':\n",
    "            print(team1+ ':'  + str(team1_odds) + ':'  + str(draw_odds)  + ' ' + team2+ ':'  + str(team2_odds))\n",
    "        j+=3\n",
    "    except:\n",
    "        j+=3\n",
    "        continue"
   ]
  },
  {
   "cell_type": "markdown",
   "metadata": {},
   "source": [
    "### La-Liga"
   ]
  },
  {
   "cell_type": "code",
   "execution_count": 37,
   "metadata": {},
   "outputs": [
    {
     "name": "stdout",
     "output_type": "stream",
     "text": [
      "Rayo Vallecano:6.25:4.45 Real Madrid:1.62\n",
      "Real Madrid:1.161:8.1 Cadiz:15.25\n"
     ]
    }
   ],
   "source": [
    "url = 'https://www.marathonbet.com/en/popular/Football/Spain/Primera+Division+-+8736'\n",
    "\n",
    "\n",
    "req = urllib.request.Request(url, headers= {\"User-Agent\": \"Mozilla/5.0\"})    \n",
    "html = urllib.request.urlopen(req)\n",
    "dfs = pd.read_html(html)         \n",
    "#df = dfs[3]\n",
    "\n",
    "\n",
    "#df[0][2][4:]\n",
    "j = 2\n",
    "while j<=len(dfs)-1:\n",
    "    try:\n",
    "        team1 =  dfs[j][0][1][4:]\n",
    "        team2 = dfs[j][0][2][4:]\n",
    "        team1_odds = dfs[j][2][0]\n",
    "        team2_odds  = dfs[j][6][0]\n",
    "        draw_odds = dfs[j][4][0]\n",
    "        if team1=='Real Madrid' or team2=='Real Madrid':\n",
    "            print(team1+ ':'  + str(team1_odds) + ':'  + str(draw_odds)  + ' ' + team2+ ':'  + str(team2_odds))\n",
    "        j+=3\n",
    "    except:\n",
    "        j+=3\n",
    "        continue"
   ]
  },
  {
   "cell_type": "code",
   "execution_count": null,
   "metadata": {},
   "outputs": [],
   "source": [
    "#pip install st-card\n",
    "#pip install hydralit-components"
   ]
  }
 ],
 "metadata": {
  "kernelspec": {
   "display_name": "Python 3",
   "language": "python",
   "name": "python3"
  },
  "language_info": {
   "codemirror_mode": {
    "name": "ipython",
    "version": 3
   },
   "file_extension": ".py",
   "mimetype": "text/x-python",
   "name": "python",
   "nbconvert_exporter": "python",
   "pygments_lexer": "ipython3",
   "version": "3.8.3"
  }
 },
 "nbformat": 4,
 "nbformat_minor": 4
}
